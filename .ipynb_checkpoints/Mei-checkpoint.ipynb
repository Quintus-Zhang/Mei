{
 "cells": [
  {
   "cell_type": "code",
   "execution_count": null,
   "metadata": {},
   "outputs": [],
   "source": [
    "import time\n",
    "\n",
    "import pandas as pd \n",
    "import numpy as np\n",
    "import seaborn as sns\n",
    "import matplotlib.pyplot as plt\n",
    "\n",
    "import sklearn\n",
    "import sklearn.datasets as ds\n",
    "from sklearn.model_selection import train_test_split\n",
    "from sklearn import neighbors, svm, tree, linear_model, ensemble, neural_network, metrics\n",
    "from sklearn.preprocessing import LabelEncoder, OneHotEncoder\n",
    "from sklearn.metrics import roc_auc_score, confusion_matrix, roc_curve, auc\n",
    "from sklearn.ensemble import AdaBoostClassifier, GradientBoostingClassifier\n",
    "from sklearn.naive_bayes import GaussianNB\n",
    "\n",
    "from sklearn.model_selection import cross_val_score\n",
    "from sklearn.grid_search import GridSearchCV"
   ]
  },
  {
   "cell_type": "code",
   "execution_count": 2,
   "metadata": {},
   "outputs": [],
   "source": [
    "%matplotlib inline\n",
    "plt.style.use('bmh')"
   ]
  },
  {
   "cell_type": "code",
   "execution_count": 3,
   "metadata": {},
   "outputs": [
    {
     "data": {
      "text/html": [
       "<style>.container { width:100% !important; }</style>"
      ],
      "text/plain": [
       "<IPython.core.display.HTML object>"
      ]
     },
     "metadata": {},
     "output_type": "display_data"
    }
   ],
   "source": [
    "pd.set_option(\"max_columns\",90, \"max_rows\", 90)\n",
    "from IPython.core.display import display, HTML\n",
    "display(HTML(\"<style>.container { width:100% !important; }</style>\"))"
   ]
  },
  {
   "cell_type": "markdown",
   "metadata": {},
   "source": [
    "### Data Preprocessing"
   ]
  },
  {
   "cell_type": "code",
   "execution_count": 4,
   "metadata": {},
   "outputs": [
    {
     "data": {
      "text/html": [
       "<div>\n",
       "<style scoped>\n",
       "    .dataframe tbody tr th:only-of-type {\n",
       "        vertical-align: middle;\n",
       "    }\n",
       "\n",
       "    .dataframe tbody tr th {\n",
       "        vertical-align: top;\n",
       "    }\n",
       "\n",
       "    .dataframe thead th {\n",
       "        text-align: right;\n",
       "    }\n",
       "</style>\n",
       "<table border=\"1\" class=\"dataframe\">\n",
       "  <thead>\n",
       "    <tr style=\"text-align: right;\">\n",
       "      <th></th>\n",
       "      <th>loan_id</th>\n",
       "      <th>orig_chn</th>\n",
       "      <th>orig_rt</th>\n",
       "      <th>orig_upb</th>\n",
       "      <th>oltv</th>\n",
       "      <th>num_bo</th>\n",
       "      <th>dti</th>\n",
       "      <th>loan_purp</th>\n",
       "      <th>prop_type</th>\n",
       "      <th>num_unit</th>\n",
       "      <th>occ_stat</th>\n",
       "      <th>prop_state</th>\n",
       "      <th>msa</th>\n",
       "      <th>fico</th>\n",
       "      <th>oyr</th>\n",
       "      <th>oqtr</th>\n",
       "      <th>ind_ede</th>\n",
       "      <th>pmms_o</th>\n",
       "      <th>avg_upb</th>\n",
       "      <th>OUPB_Rel</th>\n",
       "      <th>fhb_flag</th>\n",
       "      <th>loan_age_qtr</th>\n",
       "      <th>year</th>\n",
       "      <th>qtr</th>\n",
       "      <th>status</th>\n",
       "      <th>status_prev</th>\n",
       "      <th>PMMS</th>\n",
       "      <th>HPI_O</th>\n",
       "      <th>HPI</th>\n",
       "      <th>ur</th>\n",
       "      <th>CUPB_calc</th>\n",
       "      <th>Orig_value</th>\n",
       "      <th>CLTV</th>\n",
       "    </tr>\n",
       "  </thead>\n",
       "  <tbody>\n",
       "    <tr>\n",
       "      <th>0</th>\n",
       "      <td>F100Q1057907</td>\n",
       "      <td>T</td>\n",
       "      <td>8.00</td>\n",
       "      <td>65000</td>\n",
       "      <td>41</td>\n",
       "      <td>2.0</td>\n",
       "      <td>24</td>\n",
       "      <td>P</td>\n",
       "      <td>SF</td>\n",
       "      <td>1.0</td>\n",
       "      <td>O</td>\n",
       "      <td>WI</td>\n",
       "      <td>33340.0</td>\n",
       "      <td>752</td>\n",
       "      <td>2000</td>\n",
       "      <td>1</td>\n",
       "      <td>0.006619</td>\n",
       "      <td>8.26</td>\n",
       "      <td>124597.46950</td>\n",
       "      <td>0.521680</td>\n",
       "      <td>N</td>\n",
       "      <td>2</td>\n",
       "      <td>2000</td>\n",
       "      <td>3</td>\n",
       "      <td>Current</td>\n",
       "      <td>Current</td>\n",
       "      <td>8.03</td>\n",
       "      <td>156.42</td>\n",
       "      <td>161.16</td>\n",
       "      <td>4.000000</td>\n",
       "      <td>64866.87370</td>\n",
       "      <td>158536.58540</td>\n",
       "      <td>39.712615</td>\n",
       "    </tr>\n",
       "    <tr>\n",
       "      <th>1</th>\n",
       "      <td>F100Q1045595</td>\n",
       "      <td>T</td>\n",
       "      <td>8.25</td>\n",
       "      <td>81000</td>\n",
       "      <td>67</td>\n",
       "      <td>1.0</td>\n",
       "      <td>31</td>\n",
       "      <td>P</td>\n",
       "      <td>CO</td>\n",
       "      <td>1.0</td>\n",
       "      <td>O</td>\n",
       "      <td>IL</td>\n",
       "      <td>16974.0</td>\n",
       "      <td>787</td>\n",
       "      <td>2000</td>\n",
       "      <td>1</td>\n",
       "      <td>0.006619</td>\n",
       "      <td>8.26</td>\n",
       "      <td>144321.44180</td>\n",
       "      <td>0.561247</td>\n",
       "      <td>N</td>\n",
       "      <td>5</td>\n",
       "      <td>2001</td>\n",
       "      <td>2</td>\n",
       "      <td>Current</td>\n",
       "      <td>Current</td>\n",
       "      <td>7.13</td>\n",
       "      <td>140.68</td>\n",
       "      <td>156.12</td>\n",
       "      <td>4.400000</td>\n",
       "      <td>80348.95986</td>\n",
       "      <td>120895.52240</td>\n",
       "      <td>59.893918</td>\n",
       "    </tr>\n",
       "    <tr>\n",
       "      <th>2</th>\n",
       "      <td>8.32073E+11</td>\n",
       "      <td>C</td>\n",
       "      <td>8.25</td>\n",
       "      <td>148000</td>\n",
       "      <td>80</td>\n",
       "      <td>2.0</td>\n",
       "      <td>51</td>\n",
       "      <td>P</td>\n",
       "      <td>SF</td>\n",
       "      <td>1.0</td>\n",
       "      <td>P</td>\n",
       "      <td>WI</td>\n",
       "      <td>33340.0</td>\n",
       "      <td>733</td>\n",
       "      <td>2000</td>\n",
       "      <td>1</td>\n",
       "      <td>0.006619</td>\n",
       "      <td>8.26</td>\n",
       "      <td>124597.46950</td>\n",
       "      <td>1.187825</td>\n",
       "      <td>N</td>\n",
       "      <td>4</td>\n",
       "      <td>2001</td>\n",
       "      <td>1</td>\n",
       "      <td>Current</td>\n",
       "      <td>Current</td>\n",
       "      <td>7.01</td>\n",
       "      <td>156.42</td>\n",
       "      <td>166.05</td>\n",
       "      <td>4.230000</td>\n",
       "      <td>147117.00180</td>\n",
       "      <td>185000.00000</td>\n",
       "      <td>74.864766</td>\n",
       "    </tr>\n",
       "    <tr>\n",
       "      <th>3</th>\n",
       "      <td>F100Q1132127</td>\n",
       "      <td>R</td>\n",
       "      <td>8.75</td>\n",
       "      <td>94000</td>\n",
       "      <td>63</td>\n",
       "      <td>2.0</td>\n",
       "      <td>24</td>\n",
       "      <td>N</td>\n",
       "      <td>SF</td>\n",
       "      <td>1.0</td>\n",
       "      <td>O</td>\n",
       "      <td>MI</td>\n",
       "      <td>NaN</td>\n",
       "      <td>781</td>\n",
       "      <td>2000</td>\n",
       "      <td>1</td>\n",
       "      <td>0.006619</td>\n",
       "      <td>8.26</td>\n",
       "      <td>121230.93190</td>\n",
       "      <td>0.775380</td>\n",
       "      <td>N</td>\n",
       "      <td>2</td>\n",
       "      <td>2000</td>\n",
       "      <td>3</td>\n",
       "      <td>Current</td>\n",
       "      <td>Current</td>\n",
       "      <td>8.03</td>\n",
       "      <td>166.37</td>\n",
       "      <td>171.77</td>\n",
       "      <td>4.000000</td>\n",
       "      <td>93834.43235</td>\n",
       "      <td>149206.34920</td>\n",
       "      <td>60.911968</td>\n",
       "    </tr>\n",
       "    <tr>\n",
       "      <th>4</th>\n",
       "      <td>F100Q1027118</td>\n",
       "      <td>R</td>\n",
       "      <td>8.00</td>\n",
       "      <td>60000</td>\n",
       "      <td>61</td>\n",
       "      <td>2.0</td>\n",
       "      <td>28</td>\n",
       "      <td>P</td>\n",
       "      <td>SF</td>\n",
       "      <td>1.0</td>\n",
       "      <td>O</td>\n",
       "      <td>OH</td>\n",
       "      <td>45780.0</td>\n",
       "      <td>782</td>\n",
       "      <td>2000</td>\n",
       "      <td>1</td>\n",
       "      <td>0.006619</td>\n",
       "      <td>8.26</td>\n",
       "      <td>99538.46154</td>\n",
       "      <td>0.602782</td>\n",
       "      <td>N</td>\n",
       "      <td>10</td>\n",
       "      <td>2002</td>\n",
       "      <td>3</td>\n",
       "      <td>Current</td>\n",
       "      <td>Current</td>\n",
       "      <td>6.29</td>\n",
       "      <td>144.24</td>\n",
       "      <td>157.62</td>\n",
       "      <td>6.555973</td>\n",
       "      <td>58801.29455</td>\n",
       "      <td>98360.65574</td>\n",
       "      <td>54.066644</td>\n",
       "    </tr>\n",
       "  </tbody>\n",
       "</table>\n",
       "</div>"
      ],
      "text/plain": [
       "        loan_id orig_chn  orig_rt  orig_upb  oltv  num_bo  dti loan_purp  \\\n",
       "0  F100Q1057907        T     8.00     65000    41     2.0   24         P   \n",
       "1  F100Q1045595        T     8.25     81000    67     1.0   31         P   \n",
       "2   8.32073E+11        C     8.25    148000    80     2.0   51         P   \n",
       "3  F100Q1132127        R     8.75     94000    63     2.0   24         N   \n",
       "4  F100Q1027118        R     8.00     60000    61     2.0   28         P   \n",
       "\n",
       "  prop_type  num_unit occ_stat prop_state      msa  fico   oyr  oqtr  \\\n",
       "0        SF       1.0        O         WI  33340.0   752  2000     1   \n",
       "1        CO       1.0        O         IL  16974.0   787  2000     1   \n",
       "2        SF       1.0        P         WI  33340.0   733  2000     1   \n",
       "3        SF       1.0        O         MI      NaN   781  2000     1   \n",
       "4        SF       1.0        O         OH  45780.0   782  2000     1   \n",
       "\n",
       "    ind_ede  pmms_o       avg_upb  OUPB_Rel fhb_flag  loan_age_qtr  year  qtr  \\\n",
       "0  0.006619    8.26  124597.46950  0.521680        N             2  2000    3   \n",
       "1  0.006619    8.26  144321.44180  0.561247        N             5  2001    2   \n",
       "2  0.006619    8.26  124597.46950  1.187825        N             4  2001    1   \n",
       "3  0.006619    8.26  121230.93190  0.775380        N             2  2000    3   \n",
       "4  0.006619    8.26   99538.46154  0.602782        N            10  2002    3   \n",
       "\n",
       "    status status_prev  PMMS   HPI_O     HPI        ur     CUPB_calc  \\\n",
       "0  Current     Current  8.03  156.42  161.16  4.000000   64866.87370   \n",
       "1  Current     Current  7.13  140.68  156.12  4.400000   80348.95986   \n",
       "2  Current     Current  7.01  156.42  166.05  4.230000  147117.00180   \n",
       "3  Current     Current  8.03  166.37  171.77  4.000000   93834.43235   \n",
       "4  Current     Current  6.29  144.24  157.62  6.555973   58801.29455   \n",
       "\n",
       "     Orig_value       CLTV  \n",
       "0  158536.58540  39.712615  \n",
       "1  120895.52240  59.893918  \n",
       "2  185000.00000  74.864766  \n",
       "3  149206.34920  60.911968  \n",
       "4   98360.65574  54.066644  "
      ]
     },
     "execution_count": 4,
     "metadata": {},
     "output_type": "execute_result"
    }
   ],
   "source": [
    "raw_df = pd.read_csv('Gse_panel_current_sample_raw.csv')\n",
    "raw_df.head()"
   ]
  },
  {
   "cell_type": "code",
   "execution_count": 5,
   "metadata": {},
   "outputs": [],
   "source": [
    "# log transformation[hold on]"
   ]
  },
  {
   "cell_type": "code",
   "execution_count": 73,
   "metadata": {},
   "outputs": [],
   "source": [
    "# drop the useless columns and rows - handle the missing data[D]\n",
    "df = raw_df.dropna(how='any').copy()\n",
    "df['status'] = df['status'].apply(lambda x: int(x=='D60-D90'))\n",
    "X = df.drop(['loan_id', 'status', 'status_prev', 'prop_state'], axis=1).copy()\n",
    "y = df['status'].copy()\n",
    "\n",
    "# split the sample\n",
    "X_train, X_test, y_train, y_test = train_test_split(X, y, test_size=0.2, random_state=1)\n",
    "\n",
    "# convert the categorical vars to binary vars\n",
    "X_train = pd.get_dummies(X_train)"
   ]
  },
  {
   "cell_type": "markdown",
   "metadata": {},
   "source": [
    "### logistical regression"
   ]
  },
  {
   "cell_type": "code",
   "execution_count": 74,
   "metadata": {},
   "outputs": [
    {
     "name": "stdout",
     "output_type": "stream",
     "text": [
      "Accuracy = 99.8021125677088%\n"
     ]
    }
   ],
   "source": [
    "# logistical regression\n",
    "linear_lr = linear_model.LogisticRegression()\n",
    "linear_lr.fit(X_train, y_train)\n",
    "X_test = pd.get_dummies(X_test)\n",
    "y_pred = linear_lr.predict(X_test)\n",
    "print(f\"Accuracy = {100*np.sum(y_pred == y_test)/len(y_test)}%\")"
   ]
  },
  {
   "cell_type": "code",
   "execution_count": 75,
   "metadata": {},
   "outputs": [
    {
     "data": {
      "text/plain": [
       "array([[188118,      0],\n",
       "       [   373,      0]], dtype=int64)"
      ]
     },
     "execution_count": 75,
     "metadata": {},
     "output_type": "execute_result"
    }
   ],
   "source": [
    "confusion_matrix(y_test, y_pred)"
   ]
  },
  {
   "cell_type": "code",
   "execution_count": 76,
   "metadata": {},
   "outputs": [
    {
     "name": "stdout",
     "output_type": "stream",
     "text": [
      "0    99.778238\n",
      "1     0.221762\n",
      "Name: status, dtype: float64\n"
     ]
    }
   ],
   "source": [
    "print(y_train.value_counts(normalize=True)*100)"
   ]
  },
  {
   "cell_type": "code",
   "execution_count": 77,
   "metadata": {},
   "outputs": [
    {
     "name": "stdout",
     "output_type": "stream",
     "text": [
      "0.814902984143174\n"
     ]
    },
    {
     "data": {
      "image/png": "[encoded data removed]",
      "text/plain": [
       "<Figure size 432x288 with 1 Axes>"
      ]
     },
     "metadata": {},
     "output_type": "display_data"
    }
   ],
   "source": [
    "# ROC and AUC  \n",
    "conf_score = linear_lr.decision_function(X_test)\n",
    "print(roc_auc_score(y_test, conf_score))    \n",
    "fpr, tpr, _ = roc_curve(y_test, conf_score)\n",
    "\n",
    "plt.figure()\n",
    "plt.plot(fpr, tpr, color='darkorange', lw=1, label='ROC curve (area = %0.3f)' % auc(fpr, tpr))\n",
    "plt.plot([0, 1], [0, 1], color='navy', lw=1, linestyle='--')\n",
    "plt.xlim([0.0, 1.0])\n",
    "plt.ylim([0.0, 1.05])\n",
    "plt.xlabel('False Positive Rate')\n",
    "plt.ylabel('True Positive Rate')\n",
    "plt.title('ROC - LR')\n",
    "plt.legend(loc=\"lower right\")\n",
    "plt.show()"
   ]
  },
  {
   "cell_type": "markdown",
   "metadata": {},
   "source": [
    "### AdaBoost"
   ]
  },
  {
   "cell_type": "code",
   "execution_count": 78,
   "metadata": {},
   "outputs": [
    {
     "data": {
      "text/plain": [
       "AdaBoostClassifier(algorithm='SAMME',\n",
       "          base_estimator=LogisticRegression(C=1.0, class_weight=None, dual=False, fit_intercept=True,\n",
       "          intercept_scaling=1, max_iter=100, multi_class='ovr', n_jobs=1,\n",
       "          penalty='l2', random_state=None, solver='liblinear', tol=0.0001,\n",
       "          verbose=0, warm_start=False),\n",
       "          learning_rate=0.5, n_estimators=50, random_state=None)"
      ]
     },
     "execution_count": 78,
     "metadata": {},
     "output_type": "execute_result"
    }
   ],
   "source": [
    "bdt = AdaBoostClassifier(linear_model.LogisticRegression(), algorithm=\"SAMME\", n_estimators=50,learning_rate=0.5)\n",
    "bdt.fit(X_train, y_train)"
   ]
  },
  {
   "cell_type": "code",
   "execution_count": 79,
   "metadata": {},
   "outputs": [],
   "source": [
    "y_pred = bdt.predict(X_test)"
   ]
  },
  {
   "cell_type": "code",
   "execution_count": 80,
   "metadata": {},
   "outputs": [
    {
     "data": {
      "text/plain": [
       "array([[187876,    242],\n",
       "       [   370,      3]], dtype=int64)"
      ]
     },
     "execution_count": 80,
     "metadata": {},
     "output_type": "execute_result"
    }
   ],
   "source": [
    "confusion_matrix(y_test, y_pred)"
   ]
  },
  {
   "cell_type": "code",
   "execution_count": 81,
   "metadata": {},
   "outputs": [
    {
     "name": "stdout",
     "output_type": "stream",
     "text": [
      "0.7868355658462842\n"
     ]
    },
    {
     "data": {
      "image/png": "[encoded data removed]",
      "text/plain": [
       "<Figure size 432x288 with 1 Axes>"
      ]
     },
     "metadata": {},
     "output_type": "display_data"
    }
   ],
   "source": [
    "# ROC and AUC  \n",
    "conf_score = bdt.decision_function(X_test)\n",
    "print(roc_auc_score(y_test, conf_score))    \n",
    "fpr, tpr, _ = roc_curve(y_test, conf_score)\n",
    "\n",
    "plt.figure()\n",
    "plt.plot(fpr, tpr, color='darkorange', lw=1, label='ROC curve (area = %0.3f)' % auc(fpr, tpr))\n",
    "plt.plot([0, 1], [0, 1], color='navy', lw=1, linestyle='--')\n",
    "plt.xlim([0.0, 1.0])\n",
    "plt.ylim([0.0, 1.05])\n",
    "plt.xlabel('False Positive Rate')\n",
    "plt.ylabel('True Positive Rate')\n",
    "plt.title('ROC - LR')\n",
    "plt.legend(loc=\"lower right\")\n",
    "plt.show()"
   ]
  },
  {
   "cell_type": "markdown",
   "metadata": {},
   "source": [
    "### Gradient Boosting\n"
   ]
  },
  {
   "cell_type": "code",
   "execution_count": 85,
   "metadata": {},
   "outputs": [],
   "source": [
    "clf = GradientBoostingClassifier(loss='deviance', learning_rate=0.1, n_estimators=100, \n",
    "                                 subsample=0.6, min_samples_split=50, min_samples_leaf=50,\n",
    "                                 max_depth=2, random_state=0, verbose=0)\n",
    "clf.fit(X_train, y_train)\n",
    "y_pred = clf.predict(X_test)"
   ]
  },
  {
   "cell_type": "code",
   "execution_count": 86,
   "metadata": {},
   "outputs": [
    {
     "data": {
      "text/plain": [
       "array([[188118,      0],\n",
       "       [   373,      0]], dtype=int64)"
      ]
     },
     "execution_count": 86,
     "metadata": {},
     "output_type": "execute_result"
    }
   ],
   "source": [
    "confusion_matrix(y_test, y_pred)"
   ]
  },
  {
   "cell_type": "code",
   "execution_count": 87,
   "metadata": {},
   "outputs": [
    {
     "name": "stdout",
     "output_type": "stream",
     "text": [
      "0.8501942423509379\n"
     ]
    },
    {
     "data": {
      "image/png": "[encoded data removed]",
      "text/plain": [
       "<Figure size 432x288 with 1 Axes>"
      ]
     },
     "metadata": {},
     "output_type": "display_data"
    }
   ],
   "source": [
    "# ROC and AUC  \n",
    "conf_score = clf.decision_function(X_test)\n",
    "print(roc_auc_score(y_test, conf_score))    \n",
    "fpr, tpr, _ = roc_curve(y_test, conf_score)\n",
    "\n",
    "plt.figure()\n",
    "plt.plot(fpr, tpr, color='darkorange', lw=1, label='ROC curve (area = %0.3f)' % auc(fpr, tpr))\n",
    "plt.plot([0, 1], [0, 1], color='navy', lw=1, linestyle='--')\n",
    "plt.xlim([0.0, 1.0])\n",
    "plt.ylim([0.0, 1.05])\n",
    "plt.xlabel('False Positive Rate')\n",
    "plt.ylabel('True Positive Rate')\n",
    "plt.title('ROC - LR')\n",
    "plt.legend(loc=\"lower right\")\n",
    "plt.show()"
   ]
  },
  {
   "cell_type": "markdown",
   "metadata": {},
   "source": [
    "### xgboost  "
   ]
  },
  {
   "cell_type": "code",
   "execution_count": null,
   "metadata": {},
   "outputs": [],
   "source": []
  },
  {
   "cell_type": "markdown",
   "metadata": {},
   "source": [
    "### Hyperparams Tuning Test - GBT"
   ]
  },
  {
   "cell_type": "code",
   "execution_count": 103,
   "metadata": {},
   "outputs": [],
   "source": [
    "# model fit function\n",
    "def modelfit(clf, x_train, y_train, perform_cv=True, display_fi=True, cv_folds=5):\n",
    "    clf.fit(x_train, y_train)\n",
    "    y_train_pred = clf.predict(x_train)\n",
    "    y_train_predprob = clf.predict_proba(x_train)[:, 1]\n",
    "    \n",
    "    if perform_cv:\n",
    "        cv_score = cross_val_score(clf, x_train, y_train, cv=cv_folds, scoring='roc_auc')\n",
    "    \n",
    "    print('\\nModel Report: ')\n",
    "    print(\"Accuracy : %.4g\" % metrics.accuracy_score(y_train.values, y_train_pred))\n",
    "    print(f\"AUC Score (Train): {metrics.roc_auc_score(y_train, y_train_predprob)}\")\n",
    "          \n",
    "    if perform_cv:\n",
    "        print(\"CV Score : Mean - %.7g | Std - %.7g | Min - %.7g | Max - %.7g\" % (np.mean(cv_score),np.std(cv_score),np.min(cv_score),np.max(cv_score)))\n",
    "    \n",
    "    if display_fi:\n",
    "        feat_imp = pd.Series(clf.feature_importances_, list(X_train.columns)).sort_values(ascending=False)\n",
    "        feat_imp.plot(kind='bar', title='Feature Importances')\n",
    "        plt.ylabel('Feature Importance Score')"
   ]
  },
  {
   "cell_type": "markdown",
   "metadata": {},
   "source": [
    "#### Baseline Case"
   ]
  },
  {
   "cell_type": "code",
   "execution_count": null,
   "metadata": {},
   "outputs": [],
   "source": [
    "gbm0 = GradientBoostingClassifier(random_state=10)\n",
    "modelfit(gbm0, X_train, y_train)"
   ]
  },
  {
   "cell_type": "markdown",
   "metadata": {},
   "source": [
    "#### Tuning the number of trees, learning rate = 0.1"
   ]
  },
  {
   "cell_type": "code",
   "execution_count": null,
   "metadata": {},
   "outputs": [],
   "source": [
    "param_test1 = {'n_estimators':range(20, 81, 10)}\n",
    "gsearch1 = GridSearchCV(estimator = GradientBoostingClassifier(learning_rate=0.1, min_samples_split=500, min_samples_leaf=50, \n",
    "                                                               max_depth=8, max_features='sqrt', subsample=0.8, random_state=10), \n",
    "                        param_grid = param_test1, scoring='roc_auc', n_jobs=4, iid=False, cv=5)\n",
    "gsearch1.fit(X_train, y_train)\n",
    "gsearch1.grid_scores_, gsearch1.best_params_, gsearch1.best_score_"
   ]
  },
  {
   "cell_type": "markdown",
   "metadata": {},
   "source": [
    "#### Tuning max_depth and num_samples_split"
   ]
  },
  {
   "cell_type": "code",
   "execution_count": null,
   "metadata": {},
   "outputs": [],
   "source": [
    "param_test2 = {'max_depth':range(5, 16, 2), 'min_samples_split':range(200, 1001, 200)}\n",
    "gsearch2 = GridSearchCV(estimator = GradientBoostingClassifier(learning_rate=0.1, n_estimators=60, max_features='sqrt', subsample=0.8, random_state=10), \n",
    "                        param_grid = param_test2, scoring='roc_auc', n_jobs=4, iid=False, cv=5)\n",
    "gsearch2.fit(X_train, y_train)\n",
    "gsearch2.grid_scores_, gsearch2.best_params_, gsearch2.best_score_"
   ]
  }
 ],
 "metadata": {
  "kernelspec": {
   "display_name": "Python 3",
   "language": "python",
   "name": "python3"
  },
  "language_info": {
   "codemirror_mode": {
    "name": "ipython",
    "version": 3
   },
   "file_extension": ".py",
   "mimetype": "text/x-python",
   "name": "python",
   "nbconvert_exporter": "python",
   "pygments_lexer": "ipython3",
   "version": "3.6.5"
  }
 },
 "nbformat": 4,
 "nbformat_minor": 2
}
