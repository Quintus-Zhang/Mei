{
 "cells": [
  {
   "cell_type": "code",
   "execution_count": 3,
   "metadata": {},
   "outputs": [
    {
     "data": {
      "text/html": [
       "<style>.container { width:100% !important; }</style>"
      ],
      "text/plain": [
       "<IPython.core.display.HTML object>"
      ]
     },
     "metadata": {},
     "output_type": "display_data"
    }
   ],
   "source": [
    "import time\n",
    "\n",
    "import pandas as pd \n",
    "import numpy as np\n",
    "import seaborn as sns\n",
    "from scipy import stats\n",
    "import matplotlib.pyplot as plt\n",
    "\n",
    "import keras\n",
    "from keras.models import Sequential\n",
    "from keras.layers import Dense, Activation\n",
    "from keras.optimizers import Adam\n",
    "\n",
    "import imblearn\n",
    "from imblearn.over_sampling import SMOTE\n",
    "from imblearn.under_sampling import NearMiss \n",
    "from imblearn.pipeline import make_pipeline\n",
    "from imblearn.metrics import geometric_mean_score\n",
    "\n",
    "import sklearn\n",
    "from sklearn.model_selection import train_test_split, RandomizedSearchCV, StratifiedShuffleSplit, StratifiedKFold, KFold\n",
    "from sklearn import neighbors, svm, tree, linear_model, ensemble, neural_network, metrics\n",
    "from sklearn.preprocessing import LabelEncoder, OneHotEncoder\n",
    "from sklearn.metrics import roc_auc_score, confusion_matrix, roc_curve, auc, accuracy_score, precision_recall_curve, average_precision_score, cohen_kappa_score,\\\n",
    "classification_report, log_loss, f1_score\n",
    "from sklearn.naive_bayes import GaussianNB\n",
    "from sklearn.ensemble import AdaBoostClassifier, GradientBoostingClassifier, RandomForestClassifier\n",
    "from sklearn.svm import SVC\n",
    "\n",
    "#########################################################################\n",
    "\n",
    "%matplotlib inline\n",
    "pd.set_option(\"max_columns\",90, \"max_rows\", 90)\n",
    "\n",
    "from IPython.core.display import display, HTML\n",
    "display(HTML(\"<style>.container { width:100% !important; }</style>\"))\n",
    "\n",
    "import sys \n",
    "sys.path.insert(0, 'C:\\\\Users\\\\qzhang\\\\PycharmProjects\\\\Mei')\n",
    "# from utility import model_fit\n",
    "from utils import data_prep\n",
    "\n",
    "from sklearn.preprocessing import StandardScaler\n",
    "\n",
    "# read data\n",
    "raw_df = pd.read_csv('..\\Data\\Gse_panel_current_sample_raw.csv')"
   ]
  },
  {
   "cell_type": "code",
   "execution_count": 4,
   "metadata": {
    "scrolled": true
   },
   "outputs": [],
   "source": [
    "# split sample set\n",
    "X_train, X_val, X_test, y_train, y_val, y_test = data_prep(raw_df)"
   ]
  },
  {
   "cell_type": "code",
   "execution_count": 49,
   "metadata": {},
   "outputs": [
    {
     "name": "stdout",
     "output_type": "stream",
     "text": [
      "(1436842, 46)\n",
      "(1436842,)\n",
      "718421\n"
     ]
    }
   ],
   "source": [
    "from imblearn.over_sampling import RandomOverSampler\n",
    "ros = RandomOverSampler(random_state=0)\n",
    "X_res, y_res = ros.fit_sample(X_train, y_train)\n",
    "print(X_res.shape)\n",
    "print(y_res.shape)\n",
    "print(np.sum(y_res))\n",
    "\n",
    "X_train = X_res\n",
    "y_train = y_res"
   ]
  },
  {
   "cell_type": "code",
   "execution_count": null,
   "metadata": {},
   "outputs": [],
   "source": []
  },
  {
   "cell_type": "markdown",
   "metadata": {},
   "source": [
    "### One hidden layer NN"
   ]
  },
  {
   "cell_type": "code",
   "execution_count": 5,
   "metadata": {},
   "outputs": [],
   "source": [
    "from keras import regularizers\n",
    "from keras.layers.advanced_activations import LeakyReLU, PReLU\n",
    "from keras.optimizers import Nadam\n",
    "from keras.layers import Dropout\n",
    "from keras import backend as K\n",
    "from keras.callbacks import CSVLogger, ModelCheckpoint, EarlyStopping\n",
    "import tensorflow as tf"
   ]
  },
  {
   "cell_type": "code",
   "execution_count": 8,
   "metadata": {},
   "outputs": [],
   "source": [
    "model.load_weights(\"weights.hdf5\")\n",
    "model.compile(optimizer=opt, loss='binary_crossentropy', metrics=['accuracy'])  # higher learning rate, converges faster"
   ]
  },
  {
   "cell_type": "code",
   "execution_count": 6,
   "metadata": {
    "scrolled": true
   },
   "outputs": [
    {
     "name": "stdout",
     "output_type": "stream",
     "text": [
      "_________________________________________________________________\n",
      "Layer (type)                 Output Shape              Param #   \n",
      "=================================================================\n",
      "dense_1 (Dense)              (None, 147)               6909      \n",
      "_________________________________________________________________\n",
      "dropout_1 (Dropout)          (None, 147)               0         \n",
      "_________________________________________________________________\n",
      "dense_2 (Dense)              (None, 1)                 148       \n",
      "=================================================================\n",
      "Total params: 7,057\n",
      "Trainable params: 7,057\n",
      "Non-trainable params: 0\n",
      "_________________________________________________________________\n",
      "None\n",
      "Train on 719984 samples, validate on 179996 samples\n",
      "Epoch 1/100\n",
      " - 7s - loss: 0.6764 - acc: 0.6196 - val_loss: 0.6513 - val_acc: 0.8174\n",
      "\n",
      "Epoch 00001: val_loss improved from inf to 0.65133, saving model to weights.hdf5\n",
      "Epoch 2/100\n",
      " - 7s - loss: 0.6293 - acc: 0.8491 - val_loss: 0.6056 - val_acc: 0.9843\n",
      "\n",
      "Epoch 00002: val_loss improved from 0.65133 to 0.60561, saving model to weights.hdf5\n",
      "Epoch 3/100\n",
      " - 7s - loss: 0.5847 - acc: 0.9600 - val_loss: 0.5620 - val_acc: 0.9976\n",
      "\n",
      "Epoch 00003: val_loss improved from 0.60561 to 0.56201, saving model to weights.hdf5\n",
      "Epoch 4/100\n",
      " - 6s - loss: 0.5422 - acc: 0.9920 - val_loss: 0.5203 - val_acc: 0.9976\n",
      "\n",
      "Epoch 00004: val_loss improved from 0.56201 to 0.52030, saving model to weights.hdf5\n",
      "Epoch 5/100\n",
      " - 7s - loss: 0.5015 - acc: 0.9973 - val_loss: 0.4804 - val_acc: 0.9976\n",
      "\n",
      "Epoch 00005: val_loss improved from 0.52030 to 0.48037, saving model to weights.hdf5\n",
      "Epoch 6/100\n",
      " - 6s - loss: 0.4626 - acc: 0.9978 - val_loss: 0.4422 - val_acc: 0.9976\n",
      "\n",
      "Epoch 00006: val_loss improved from 0.48037 to 0.44221, saving model to weights.hdf5\n",
      "Epoch 7/100\n",
      " - 6s - loss: 0.4255 - acc: 0.9978 - val_loss: 0.4058 - val_acc: 0.9976\n",
      "\n",
      "Epoch 00007: val_loss improved from 0.44221 to 0.40581, saving model to weights.hdf5\n",
      "Epoch 8/100\n",
      " - 7s - loss: 0.3901 - acc: 0.9978 - val_loss: 0.3711 - val_acc: 0.9976\n",
      "\n",
      "Epoch 00008: val_loss improved from 0.40581 to 0.37115, saving model to weights.hdf5\n",
      "Epoch 9/100\n",
      " - 6s - loss: 0.3564 - acc: 0.9978 - val_loss: 0.3382 - val_acc: 0.9976\n",
      "\n",
      "Epoch 00009: val_loss improved from 0.37115 to 0.33820, saving model to weights.hdf5\n",
      "Epoch 10/100\n",
      " - 7s - loss: 0.3246 - acc: 0.9978 - val_loss: 0.3070 - val_acc: 0.9976\n",
      "\n",
      "Epoch 00010: val_loss improved from 0.33820 to 0.30700, saving model to weights.hdf5\n",
      "Epoch 11/100\n",
      " - 7s - loss: 0.2945 - acc: 0.9978 - val_loss: 0.2776 - val_acc: 0.9976\n",
      "\n",
      "Epoch 00011: val_loss improved from 0.30700 to 0.27757, saving model to weights.hdf5\n",
      "Epoch 12/100\n",
      " - 7s - loss: 0.2661 - acc: 0.9978 - val_loss: 0.2499 - val_acc: 0.9976\n",
      "\n",
      "Epoch 00012: val_loss improved from 0.27757 to 0.24993, saving model to weights.hdf5\n",
      "Epoch 13/100\n",
      " - 7s - loss: 0.2396 - acc: 0.9978 - val_loss: 0.2241 - val_acc: 0.9976\n",
      "\n",
      "Epoch 00013: val_loss improved from 0.24993 to 0.22408, saving model to weights.hdf5\n",
      "Epoch 14/100\n",
      " - 7s - loss: 0.2146 - acc: 0.9978 - val_loss: 0.2000 - val_acc: 0.9976\n",
      "\n",
      "Epoch 00014: val_loss improved from 0.22408 to 0.20004, saving model to weights.hdf5\n",
      "Epoch 15/100\n",
      " - 6s - loss: 0.1916 - acc: 0.9978 - val_loss: 0.1778 - val_acc: 0.9976\n",
      "\n",
      "Epoch 00015: val_loss improved from 0.20004 to 0.17779, saving model to weights.hdf5\n",
      "Epoch 16/100\n",
      " - 7s - loss: 0.1703 - acc: 0.9978 - val_loss: 0.1573 - val_acc: 0.9976\n",
      "\n",
      "Epoch 00016: val_loss improved from 0.17779 to 0.15734, saving model to weights.hdf5\n",
      "Epoch 17/100\n",
      " - 7s - loss: 0.1508 - acc: 0.9978 - val_loss: 0.1387 - val_acc: 0.9976\n",
      "\n",
      "Epoch 00017: val_loss improved from 0.15734 to 0.13865, saving model to weights.hdf5\n",
      "Epoch 18/100\n",
      " - 7s - loss: 0.1330 - acc: 0.9978 - val_loss: 0.1217 - val_acc: 0.9976\n",
      "\n",
      "Epoch 00018: val_loss improved from 0.13865 to 0.12171, saving model to weights.hdf5\n",
      "Epoch 19/100\n",
      " - 7s - loss: 0.1168 - acc: 0.9978 - val_loss: 0.1064 - val_acc: 0.9976\n",
      "\n",
      "Epoch 00019: val_loss improved from 0.12171 to 0.10643, saving model to weights.hdf5\n",
      "Epoch 20/100\n",
      " - 7s - loss: 0.1023 - acc: 0.9978 - val_loss: 0.0928 - val_acc: 0.9976\n",
      "\n",
      "Epoch 00020: val_loss improved from 0.10643 to 0.09277, saving model to weights.hdf5\n",
      "Epoch 21/100\n",
      " - 6s - loss: 0.0893 - acc: 0.9978 - val_loss: 0.0807 - val_acc: 0.9976\n",
      "\n",
      "Epoch 00021: val_loss improved from 0.09277 to 0.08065, saving model to weights.hdf5\n",
      "Epoch 22/100\n",
      " - 6s - loss: 0.0778 - acc: 0.9978 - val_loss: 0.0700 - val_acc: 0.9976\n",
      "\n",
      "Epoch 00022: val_loss improved from 0.08065 to 0.07000, saving model to weights.hdf5\n",
      "Epoch 23/100\n",
      " - 7s - loss: 0.0677 - acc: 0.9978 - val_loss: 0.0607 - val_acc: 0.9976\n",
      "\n",
      "Epoch 00023: val_loss improved from 0.07000 to 0.06070, saving model to weights.hdf5\n",
      "Epoch 24/100\n",
      " - 7s - loss: 0.0588 - acc: 0.9978 - val_loss: 0.0527 - val_acc: 0.9976\n",
      "\n",
      "Epoch 00024: val_loss improved from 0.06070 to 0.05267, saving model to weights.hdf5\n",
      "Epoch 25/100\n",
      " - 6s - loss: 0.0512 - acc: 0.9978 - val_loss: 0.0458 - val_acc: 0.9976\n",
      "\n",
      "Epoch 00025: val_loss improved from 0.05267 to 0.04579, saving model to weights.hdf5\n",
      "Epoch 26/100\n",
      " - 7s - loss: 0.0446 - acc: 0.9978 - val_loss: 0.0400 - val_acc: 0.9976\n",
      "\n",
      "Epoch 00026: val_loss improved from 0.04579 to 0.03996, saving model to weights.hdf5\n",
      "Epoch 27/100\n",
      " - 6s - loss: 0.0390 - acc: 0.9978 - val_loss: 0.0351 - val_acc: 0.9976\n",
      "\n",
      "Epoch 00027: val_loss improved from 0.03996 to 0.03506, saving model to weights.hdf5\n",
      "Epoch 28/100\n",
      " - 7s - loss: 0.0343 - acc: 0.9978 - val_loss: 0.0310 - val_acc: 0.9976\n",
      "\n",
      "Epoch 00028: val_loss improved from 0.03506 to 0.03099, saving model to weights.hdf5\n",
      "Epoch 29/100\n",
      " - 7s - loss: 0.0304 - acc: 0.9978 - val_loss: 0.0276 - val_acc: 0.9976\n",
      "\n",
      "Epoch 00029: val_loss improved from 0.03099 to 0.02764, saving model to weights.hdf5\n",
      "Epoch 30/100\n",
      " - 7s - loss: 0.0272 - acc: 0.9978 - val_loss: 0.0249 - val_acc: 0.9976\n",
      "\n",
      "Epoch 00030: val_loss improved from 0.02764 to 0.02493, saving model to weights.hdf5\n",
      "Epoch 31/100\n",
      " - 7s - loss: 0.0246 - acc: 0.9978 - val_loss: 0.0228 - val_acc: 0.9976\n",
      "\n",
      "Epoch 00031: val_loss improved from 0.02493 to 0.02276, saving model to weights.hdf5\n",
      "Epoch 32/100\n",
      " - 7s - loss: 0.0224 - acc: 0.9978 - val_loss: 0.0210 - val_acc: 0.9976\n",
      "\n",
      "Epoch 00032: val_loss improved from 0.02276 to 0.02104, saving model to weights.hdf5\n",
      "Epoch 33/100\n",
      " - 7s - loss: 0.0208 - acc: 0.9978 - val_loss: 0.0197 - val_acc: 0.9976\n",
      "\n",
      "Epoch 00033: val_loss improved from 0.02104 to 0.01971, saving model to weights.hdf5\n",
      "Epoch 34/100\n",
      " - 7s - loss: 0.0194 - acc: 0.9978 - val_loss: 0.0187 - val_acc: 0.9976\n",
      "\n",
      "Epoch 00034: val_loss improved from 0.01971 to 0.01869, saving model to weights.hdf5\n",
      "Epoch 35/100\n",
      " - 7s - loss: 0.0184 - acc: 0.9978 - val_loss: 0.0179 - val_acc: 0.9976\n",
      "\n",
      "Epoch 00035: val_loss improved from 0.01869 to 0.01792, saving model to weights.hdf5\n",
      "Epoch 36/100\n",
      " - 6s - loss: 0.0176 - acc: 0.9978 - val_loss: 0.0174 - val_acc: 0.9976\n",
      "\n",
      "Epoch 00036: val_loss improved from 0.01792 to 0.01736, saving model to weights.hdf5\n",
      "Epoch 37/100\n",
      " - 6s - loss: 0.0170 - acc: 0.9978 - val_loss: 0.0169 - val_acc: 0.9976\n",
      "\n",
      "Epoch 00037: val_loss improved from 0.01736 to 0.01693, saving model to weights.hdf5\n",
      "Epoch 38/100\n",
      " - 7s - loss: 0.0166 - acc: 0.9978 - val_loss: 0.0166 - val_acc: 0.9976\n",
      "\n",
      "Epoch 00038: val_loss improved from 0.01693 to 0.01662, saving model to weights.hdf5\n",
      "Epoch 39/100\n",
      " - 7s - loss: 0.0163 - acc: 0.9978 - val_loss: 0.0164 - val_acc: 0.9976\n",
      "\n",
      "Epoch 00039: val_loss improved from 0.01662 to 0.01639, saving model to weights.hdf5\n",
      "Epoch 40/100\n",
      " - 7s - loss: 0.0160 - acc: 0.9978 - val_loss: 0.0162 - val_acc: 0.9976\n",
      "\n",
      "Epoch 00040: val_loss improved from 0.01639 to 0.01622, saving model to weights.hdf5\n",
      "Epoch 41/100\n",
      " - 7s - loss: 0.0157 - acc: 0.9978 - val_loss: 0.0161 - val_acc: 0.9976\n",
      "\n",
      "Epoch 00041: val_loss improved from 0.01622 to 0.01608, saving model to weights.hdf5\n",
      "Epoch 42/100\n",
      " - 6s - loss: 0.0156 - acc: 0.9978 - val_loss: 0.0160 - val_acc: 0.9976\n",
      "\n",
      "Epoch 00042: val_loss improved from 0.01608 to 0.01597, saving model to weights.hdf5\n",
      "Epoch 43/100\n",
      " - 7s - loss: 0.0155 - acc: 0.9978 - val_loss: 0.0159 - val_acc: 0.9976\n",
      "\n",
      "Epoch 00043: val_loss improved from 0.01597 to 0.01588, saving model to weights.hdf5\n",
      "Epoch 44/100\n",
      " - 7s - loss: 0.0154 - acc: 0.9978 - val_loss: 0.0158 - val_acc: 0.9976\n"
     ]
    },
    {
     "name": "stdout",
     "output_type": "stream",
     "text": [
      "\n",
      "Epoch 00044: val_loss improved from 0.01588 to 0.01581, saving model to weights.hdf5\n",
      "Epoch 45/100\n",
      " - 6s - loss: 0.0153 - acc: 0.9978 - val_loss: 0.0157 - val_acc: 0.9976\n",
      "\n",
      "Epoch 00045: val_loss improved from 0.01581 to 0.01574, saving model to weights.hdf5\n",
      "Epoch 46/100\n",
      " - 8s - loss: 0.0153 - acc: 0.9978 - val_loss: 0.0157 - val_acc: 0.9976\n",
      "\n",
      "Epoch 00046: val_loss improved from 0.01574 to 0.01568, saving model to weights.hdf5\n",
      "Epoch 47/100\n",
      " - 8s - loss: 0.0151 - acc: 0.9978 - val_loss: 0.0156 - val_acc: 0.9976\n",
      "\n",
      "Epoch 00047: val_loss improved from 0.01568 to 0.01562, saving model to weights.hdf5\n",
      "Epoch 48/100\n",
      " - 7s - loss: 0.0151 - acc: 0.9978 - val_loss: 0.0156 - val_acc: 0.9976\n",
      "\n",
      "Epoch 00048: val_loss improved from 0.01562 to 0.01557, saving model to weights.hdf5\n",
      "Epoch 49/100\n",
      " - 7s - loss: 0.0150 - acc: 0.9978 - val_loss: 0.0155 - val_acc: 0.9976\n",
      "\n",
      "Epoch 00049: val_loss improved from 0.01557 to 0.01552, saving model to weights.hdf5\n",
      "Epoch 50/100\n",
      " - 7s - loss: 0.0150 - acc: 0.9978 - val_loss: 0.0155 - val_acc: 0.9976\n",
      "\n",
      "Epoch 00050: val_loss improved from 0.01552 to 0.01548, saving model to weights.hdf5\n",
      "Epoch 51/100\n",
      " - 7s - loss: 0.0149 - acc: 0.9978 - val_loss: 0.0154 - val_acc: 0.9976\n",
      "\n",
      "Epoch 00051: val_loss improved from 0.01548 to 0.01544, saving model to weights.hdf5\n",
      "Epoch 52/100\n",
      " - 7s - loss: 0.0149 - acc: 0.9978 - val_loss: 0.0154 - val_acc: 0.9976\n",
      "\n",
      "Epoch 00052: val_loss improved from 0.01544 to 0.01540, saving model to weights.hdf5\n",
      "Epoch 53/100\n",
      " - 7s - loss: 0.0149 - acc: 0.9978 - val_loss: 0.0154 - val_acc: 0.9976\n",
      "\n",
      "Epoch 00053: val_loss improved from 0.01540 to 0.01536, saving model to weights.hdf5\n",
      "Epoch 54/100\n",
      " - 7s - loss: 0.0148 - acc: 0.9978 - val_loss: 0.0153 - val_acc: 0.9976\n",
      "\n",
      "Epoch 00054: val_loss improved from 0.01536 to 0.01532, saving model to weights.hdf5\n",
      "Epoch 55/100\n",
      " - 7s - loss: 0.0148 - acc: 0.9978 - val_loss: 0.0153 - val_acc: 0.9976\n",
      "\n",
      "Epoch 00055: val_loss improved from 0.01532 to 0.01528, saving model to weights.hdf5\n",
      "Epoch 56/100\n",
      " - 7s - loss: 0.0148 - acc: 0.9978 - val_loss: 0.0152 - val_acc: 0.9976\n",
      "\n",
      "Epoch 00056: val_loss improved from 0.01528 to 0.01525, saving model to weights.hdf5\n",
      "Epoch 57/100\n",
      " - 7s - loss: 0.0147 - acc: 0.9978 - val_loss: 0.0152 - val_acc: 0.9976\n",
      "\n",
      "Epoch 00057: val_loss improved from 0.01525 to 0.01521, saving model to weights.hdf5\n",
      "Epoch 58/100\n",
      " - 7s - loss: 0.0147 - acc: 0.9978 - val_loss: 0.0152 - val_acc: 0.9976\n",
      "\n",
      "Epoch 00058: val_loss improved from 0.01521 to 0.01518, saving model to weights.hdf5\n",
      "Epoch 59/100\n",
      " - 7s - loss: 0.0147 - acc: 0.9978 - val_loss: 0.0151 - val_acc: 0.9976\n",
      "\n",
      "Epoch 00059: val_loss improved from 0.01518 to 0.01515, saving model to weights.hdf5\n",
      "Epoch 60/100\n",
      " - 6s - loss: 0.0146 - acc: 0.9978 - val_loss: 0.0151 - val_acc: 0.9976\n",
      "\n",
      "Epoch 00060: val_loss improved from 0.01515 to 0.01512, saving model to weights.hdf5\n",
      "Epoch 61/100\n",
      " - 7s - loss: 0.0146 - acc: 0.9978 - val_loss: 0.0151 - val_acc: 0.9976\n",
      "\n",
      "Epoch 00061: val_loss improved from 0.01512 to 0.01509, saving model to weights.hdf5\n",
      "Epoch 62/100\n",
      " - 8s - loss: 0.0145 - acc: 0.9978 - val_loss: 0.0151 - val_acc: 0.9976\n",
      "\n",
      "Epoch 00062: val_loss improved from 0.01509 to 0.01506, saving model to weights.hdf5\n",
      "Epoch 63/100\n",
      " - 8s - loss: 0.0144 - acc: 0.9978 - val_loss: 0.0150 - val_acc: 0.9976\n",
      "\n",
      "Epoch 00063: val_loss improved from 0.01506 to 0.01504, saving model to weights.hdf5\n",
      "Epoch 64/100\n",
      " - 8s - loss: 0.0145 - acc: 0.9978 - val_loss: 0.0150 - val_acc: 0.9976\n",
      "\n",
      "Epoch 00064: val_loss improved from 0.01504 to 0.01501, saving model to weights.hdf5\n",
      "Epoch 65/100\n",
      " - 8s - loss: 0.0144 - acc: 0.9978 - val_loss: 0.0150 - val_acc: 0.9976\n",
      "\n",
      "Epoch 00065: val_loss improved from 0.01501 to 0.01499, saving model to weights.hdf5\n",
      "Epoch 66/100\n",
      " - 8s - loss: 0.0144 - acc: 0.9978 - val_loss: 0.0150 - val_acc: 0.9976\n",
      "\n",
      "Epoch 00066: val_loss improved from 0.01499 to 0.01496, saving model to weights.hdf5\n",
      "Epoch 67/100\n",
      " - 8s - loss: 0.0144 - acc: 0.9978 - val_loss: 0.0149 - val_acc: 0.9976\n",
      "\n",
      "Epoch 00067: val_loss improved from 0.01496 to 0.01494, saving model to weights.hdf5\n",
      "Epoch 68/100\n",
      " - 9s - loss: 0.0144 - acc: 0.9978 - val_loss: 0.0149 - val_acc: 0.9976\n",
      "\n",
      "Epoch 00068: val_loss improved from 0.01494 to 0.01492, saving model to weights.hdf5\n",
      "Epoch 69/100\n",
      " - 22s - loss: 0.0144 - acc: 0.9978 - val_loss: 0.0149 - val_acc: 0.9976\n",
      "\n",
      "Epoch 00069: val_loss improved from 0.01492 to 0.01490, saving model to weights.hdf5\n",
      "Epoch 70/100\n",
      " - 18s - loss: 0.0144 - acc: 0.9978 - val_loss: 0.0149 - val_acc: 0.9976\n",
      "\n",
      "Epoch 00070: val_loss improved from 0.01490 to 0.01488, saving model to weights.hdf5\n",
      "Epoch 71/100\n",
      " - 10s - loss: 0.0143 - acc: 0.9978 - val_loss: 0.0149 - val_acc: 0.9976\n",
      "\n",
      "Epoch 00071: val_loss improved from 0.01488 to 0.01486, saving model to weights.hdf5\n",
      "Epoch 72/100\n",
      " - 10s - loss: 0.0143 - acc: 0.9978 - val_loss: 0.0148 - val_acc: 0.9976\n",
      "\n",
      "Epoch 00072: val_loss improved from 0.01486 to 0.01484, saving model to weights.hdf5\n",
      "Epoch 73/100\n",
      " - 10s - loss: 0.0143 - acc: 0.9978 - val_loss: 0.0148 - val_acc: 0.9976\n",
      "\n",
      "Epoch 00073: val_loss improved from 0.01484 to 0.01482, saving model to weights.hdf5\n",
      "Epoch 74/100\n",
      " - 9s - loss: 0.0143 - acc: 0.9978 - val_loss: 0.0148 - val_acc: 0.9976\n",
      "\n",
      "Epoch 00074: val_loss improved from 0.01482 to 0.01480, saving model to weights.hdf5\n",
      "Epoch 75/100\n",
      " - 9s - loss: 0.0142 - acc: 0.9978 - val_loss: 0.0148 - val_acc: 0.9976\n",
      "\n",
      "Epoch 00075: val_loss improved from 0.01480 to 0.01479, saving model to weights.hdf5\n",
      "Epoch 76/100\n",
      " - 9s - loss: 0.0142 - acc: 0.9978 - val_loss: 0.0148 - val_acc: 0.9976\n",
      "\n",
      "Epoch 00076: val_loss improved from 0.01479 to 0.01477, saving model to weights.hdf5\n",
      "Epoch 77/100\n",
      " - 10s - loss: 0.0142 - acc: 0.9978 - val_loss: 0.0148 - val_acc: 0.9976\n",
      "\n",
      "Epoch 00077: val_loss improved from 0.01477 to 0.01476, saving model to weights.hdf5\n",
      "Epoch 78/100\n",
      " - 9s - loss: 0.0142 - acc: 0.9978 - val_loss: 0.0147 - val_acc: 0.9976\n",
      "\n",
      "Epoch 00078: val_loss improved from 0.01476 to 0.01474, saving model to weights.hdf5\n",
      "Epoch 79/100\n",
      " - 9s - loss: 0.0142 - acc: 0.9978 - val_loss: 0.0147 - val_acc: 0.9976\n",
      "\n",
      "Epoch 00079: val_loss improved from 0.01474 to 0.01473, saving model to weights.hdf5\n",
      "Epoch 80/100\n",
      " - 10s - loss: 0.0142 - acc: 0.9978 - val_loss: 0.0147 - val_acc: 0.9976\n",
      "\n",
      "Epoch 00080: val_loss improved from 0.01473 to 0.01471, saving model to weights.hdf5\n",
      "Epoch 81/100\n",
      " - 9s - loss: 0.0141 - acc: 0.9978 - val_loss: 0.0147 - val_acc: 0.9976\n",
      "\n",
      "Epoch 00081: val_loss improved from 0.01471 to 0.01470, saving model to weights.hdf5\n",
      "Epoch 82/100\n",
      " - 7s - loss: 0.0142 - acc: 0.9978 - val_loss: 0.0147 - val_acc: 0.9976\n",
      "\n",
      "Epoch 00082: val_loss improved from 0.01470 to 0.01469, saving model to weights.hdf5\n",
      "Epoch 83/100\n",
      " - 7s - loss: 0.0141 - acc: 0.9978 - val_loss: 0.0147 - val_acc: 0.9976\n",
      "\n",
      "Epoch 00083: val_loss improved from 0.01469 to 0.01468, saving model to weights.hdf5\n",
      "Epoch 84/100\n",
      " - 7s - loss: 0.0142 - acc: 0.9978 - val_loss: 0.0147 - val_acc: 0.9976\n",
      "\n",
      "Epoch 00084: val_loss improved from 0.01468 to 0.01466, saving model to weights.hdf5\n",
      "Epoch 85/100\n",
      " - 7s - loss: 0.0141 - acc: 0.9978 - val_loss: 0.0147 - val_acc: 0.9976\n",
      "\n",
      "Epoch 00085: val_loss improved from 0.01466 to 0.01465, saving model to weights.hdf5\n",
      "Epoch 86/100\n",
      " - 7s - loss: 0.0142 - acc: 0.9978 - val_loss: 0.0146 - val_acc: 0.9976\n",
      "\n",
      "Epoch 00086: val_loss improved from 0.01465 to 0.01464, saving model to weights.hdf5\n",
      "Epoch 87/100\n",
      " - 7s - loss: 0.0142 - acc: 0.9978 - val_loss: 0.0146 - val_acc: 0.9976\n",
      "\n",
      "Epoch 00087: val_loss improved from 0.01464 to 0.01463, saving model to weights.hdf5\n",
      "Epoch 88/100\n",
      " - 7s - loss: 0.0141 - acc: 0.9978 - val_loss: 0.0146 - val_acc: 0.9976\n",
      "\n",
      "Epoch 00088: val_loss improved from 0.01463 to 0.01462, saving model to weights.hdf5\n",
      "Epoch 89/100\n",
      " - 6s - loss: 0.0141 - acc: 0.9978 - val_loss: 0.0146 - val_acc: 0.9976\n",
      "\n",
      "Epoch 00089: val_loss improved from 0.01462 to 0.01461, saving model to weights.hdf5\n",
      "Epoch 90/100\n",
      " - 6s - loss: 0.0141 - acc: 0.9978 - val_loss: 0.0146 - val_acc: 0.9976\n",
      "\n",
      "Epoch 00090: val_loss improved from 0.01461 to 0.01460, saving model to weights.hdf5\n",
      "Epoch 91/100\n",
      " - 7s - loss: 0.0140 - acc: 0.9978 - val_loss: 0.0146 - val_acc: 0.9976\n",
      "\n",
      "Epoch 00091: val_loss improved from 0.01460 to 0.01459, saving model to weights.hdf5\n",
      "Epoch 92/100\n",
      " - 6s - loss: 0.0141 - acc: 0.9978 - val_loss: 0.0146 - val_acc: 0.9976\n"
     ]
    },
    {
     "name": "stdout",
     "output_type": "stream",
     "text": [
      "\n",
      "Epoch 00092: val_loss improved from 0.01459 to 0.01458, saving model to weights.hdf5\n",
      "Epoch 93/100\n",
      " - 6s - loss: 0.0141 - acc: 0.9978 - val_loss: 0.0146 - val_acc: 0.9976\n",
      "\n",
      "Epoch 00093: val_loss improved from 0.01458 to 0.01457, saving model to weights.hdf5\n",
      "Epoch 94/100\n",
      " - 6s - loss: 0.0140 - acc: 0.9978 - val_loss: 0.0146 - val_acc: 0.9976\n",
      "\n",
      "Epoch 00094: val_loss improved from 0.01457 to 0.01457, saving model to weights.hdf5\n",
      "Epoch 00094: early stopping\n"
     ]
    }
   ],
   "source": [
    "# K.clear_session()  # cause python crash\n",
    "# tf.reset_default_graph() \n",
    "\n",
    "model = Sequential()\n",
    "model.add(Dense(147, \n",
    "                activation='relu', \n",
    "                input_dim=X_train.shape[1], \n",
    "                # kernel_regularizer=regularizers.l2(0.001),\n",
    "                kernel_initializer='normal'))  #  \n",
    "model.add(Dropout(0.360162247))\n",
    "# model.add(LeakyReLU(alpha=0.5))\n",
    "# model.add(Activation('relu')) \n",
    "model.add(Dense(1, \n",
    "                activation='sigmoid',\n",
    "                kernel_initializer='normal'))\n",
    "\n",
    "#opt = Nadam(lr=0.001, beta_1=0.9, beta_2=0.999, epsilon=None, schedule_decay=0.004)\n",
    "opt = Adam(lr=1e-3)\n",
    "model.compile(optimizer=opt, loss='binary_crossentropy', metrics=['accuracy'])  # higher learning rate, converges faster\n",
    "\n",
    "print(model.summary())\n",
    "ba_siz_train = 335   # smaller batch size, converges faster \n",
    "ba_siz_pred = X_val.shape[0]\n",
    "\n",
    "csv_logger = CSVLogger('training.log')\n",
    "check_pointer = ModelCheckpoint(filepath='weights.hdf5', monitor='val_loss', mode='min', verbose=1, save_best_only=True)\n",
    "early_stopper = EarlyStopping(monitor='val_loss', min_delta=0.0001, patience=10, verbose=1, mode='min')\n",
    "cb_list = [check_pointer, early_stopper]\n",
    "history = model.fit(X_train, y_train, validation_data=(X_val, y_val), epochs=100, \n",
    "                    batch_size=ba_siz_train, callbacks=cb_list, shuffle=True, verbose=2)  # , class_weight={0:1, 1:500}"
   ]
  },
  {
   "cell_type": "code",
   "execution_count": 16,
   "metadata": {},
   "outputs": [],
   "source": [
    "# history = model.fit(X_train, y_train, validation_split=0.2, initial_epoch=1, epochs=5, batch_size=ba_siz_train, shuffle=True, verbose=2) # , class_weight={0:1, 1:500}"
   ]
  },
  {
   "cell_type": "code",
   "execution_count": 9,
   "metadata": {},
   "outputs": [
    {
     "name": "stdout",
     "output_type": "stream",
     "text": [
      "179996/179996 [==============================] - 0s 1us/step\n",
      "['loss', 'acc'] [0.014565479010343552, 0.9976499676704407]\n"
     ]
    },
    {
     "name": "stderr",
     "output_type": "stream",
     "text": [
      "C:\\Users\\qzhang\\AppData\\Local\\Continuum\\anaconda3\\lib\\site-packages\\sklearn\\metrics\\classification.py:1135: UndefinedMetricWarning: F-score is ill-defined and being set to 0.0 due to no predicted samples.\n",
      "  'precision', 'predicted', average, warn_for)\n",
      "C:\\Users\\qzhang\\AppData\\Local\\Continuum\\anaconda3\\lib\\site-packages\\sklearn\\preprocessing\\label.py:128: DataConversionWarning: A column-vector y was passed when a 1d array was expected. Please change the shape of y to (n_samples, ), for example using ravel().\n",
      "  y = column_or_1d(y, warn=True)\n",
      "C:\\Users\\qzhang\\AppData\\Local\\Continuum\\anaconda3\\lib\\site-packages\\scipy\\stats\\stats.py:313: RuntimeWarning: divide by zero encountered in log\n",
      "  log_a = np.log(a)\n"
     ]
    },
    {
     "name": "stdout",
     "output_type": "stream",
     "text": [
      "{'Classifier': 'Neural Networks', 'PR_AUC': 0.01657090870949549, 'ROC_AUC': 0.8384318676433624, 'Expeted num of D60-D90': 350.00848, 'Actual num of D60-D90': 423, 'F score': 0.0, 'G mean': 0.0}\n"
     ]
    },
    {
     "data": {
      "image/png": "[encoded data removed]",
      "text/plain": [
       "<Figure size 432x288 with 2 Axes>"
      ]
     },
     "metadata": {},
     "output_type": "display_data"
    },
    {
     "data": {
      "image/png": "[encoded data removed]",
      "text/plain": [
       "<Figure size 432x288 with 1 Axes>"
      ]
     },
     "metadata": {},
     "output_type": "display_data"
    },
    {
     "data": {
      "image/png": "[encoded data removed]",
      "text/plain": [
       "<Figure size 432x288 with 1 Axes>"
      ]
     },
     "metadata": {},
     "output_type": "display_data"
    }
   ],
   "source": [
    "# evaluate - return loss and any other metrics requested, batch size should as large as possible when evaluating or predicting\n",
    "scores = model.evaluate(X_val, y_val, batch_size=ba_siz_pred)   \n",
    "print(model.metrics_names, scores)\n",
    "\n",
    "# predict \n",
    "prob_pos = model.predict(X_val, batch_size=ba_siz_pred, verbose=0) \n",
    "vfunc = np.vectorize(lambda x: 1 if x > 0.05 else 0)\n",
    "y_pred = vfunc(prob_pos)\n",
    "# sns.heatmap(confusion_matrix(y_test, model.predict_classes(X_test, batch_size=400, verbose=0)), annot=True, fmt=\"d\")\n",
    "\n",
    "# calculate related metrics\n",
    "precision, recall, _ = precision_recall_curve(y_val, prob_pos)\n",
    "fpr, tpr, _ = roc_curve(y_val, prob_pos)\n",
    "roc_auc = auc(fpr, tpr)\n",
    "pr_auc = average_precision_score(y_val, prob_pos)\n",
    "exp_pos = np.sum(prob_pos)\n",
    "f_score = f1_score(y_val, y_pred)\n",
    "g_mean = geometric_mean_score(y_val, y_pred)\n",
    "\n",
    "op = {'Classifier': 'Neural Networks',\n",
    "      'PR_AUC': pr_auc,\n",
    "      'ROC_AUC': roc_auc,\n",
    "      'Expeted num of D60-D90': exp_pos,\n",
    "      'Actual num of D60-D90': np.sum(y_val),\n",
    "      'F score': f_score,\n",
    "      'G mean': g_mean}\n",
    "print(op)\n",
    "\n",
    "# PLOT - confusion matrix\n",
    "ax_cm = sns.heatmap(confusion_matrix(y_val, y_pred), annot=True, fmt=\"d\")\n",
    "\n",
    "# PLOT - ROC_AUC\n",
    "plt.figure()\n",
    "plt.plot(fpr, tpr, color='darkorange', lw=1, label='ROC curve (area = %0.6f)' % roc_auc)\n",
    "plt.plot([0, 1], [0, 1], color='navy', lw=1, linestyle='--')\n",
    "plt.xlim([0.0, 1.0])\n",
    "plt.ylim([0.0, 1.05])\n",
    "plt.xlabel('False Positive Rate')\n",
    "plt.ylabel('True Positive Rate')\n",
    "plt.title(f'Neural Networks - ROC')\n",
    "plt.legend(loc=\"lower right\")\n",
    "plt.show()\n",
    "\n",
    "# PLOT - PR_AUC\n",
    "plt.figure()\n",
    "plt.plot(recall, precision, color='darkorange', lw=1,\n",
    "         label='PR curve (area = %0.6f)' % pr_auc)\n",
    "plt.fill_between(recall, precision, step='post', alpha=0.2, color='b')\n",
    "plt.xlim([0.0, 1.0])\n",
    "plt.ylim([0.0, 1.05])\n",
    "plt.xlabel('Recall(True Positive Rate)')\n",
    "plt.ylabel('Precision')\n",
    "plt.title(f'Neural Networks - Precision Recall Curve')\n",
    "plt.legend(loc=\"upper right\")\n",
    "plt.show()"
   ]
  },
  {
   "cell_type": "code",
   "execution_count": 64,
   "metadata": {},
   "outputs": [
    {
     "data": {
      "image/png": "[encoded data removed]",
      "text/plain": [
       "<Figure size 432x288 with 1 Axes>"
      ]
     },
     "metadata": {},
     "output_type": "display_data"
    },
    {
     "data": {
      "image/png": "[encoded data removed]",
      "text/plain": [
       "<Figure size 432x288 with 1 Axes>"
      ]
     },
     "metadata": {},
     "output_type": "display_data"
    }
   ],
   "source": [
    "h = history.history\n",
    "\n",
    "plt.figure()\n",
    "plt.plot(h['loss'], label='train_loss')\n",
    "plt.plot(h['val_loss'], label='validation_loss')\n",
    "plt.legend()\n",
    "plt.show()                            \n",
    "plt.figure()\n",
    "plt.plot(h['acc'], label='train_acc')\n",
    "plt.plot(h['val_acc'], label='validation_acc')\n",
    "plt.legend()\n",
    "plt.show()\n",
    "\n",
    "# \n",
    "# The training loss is the average of the losses over each batch of training data. \n",
    "# Because your model is changing over time, the loss over the first batches of an epoch is generally higher than over the last batches. \n",
    "# On the other hand, the testing loss for an epoch is computed using the model as it is at the end of the epoch, resulting in a lower loss."
   ]
  },
  {
   "cell_type": "code",
   "execution_count": 65,
   "metadata": {},
   "outputs": [
    {
     "name": "stderr",
     "output_type": "stream",
     "text": [
      "C:\\Users\\qzhang\\AppData\\Local\\Continuum\\anaconda3\\lib\\site-packages\\sklearn\\preprocessing\\label.py:128: DataConversionWarning: A column-vector y was passed when a 1d array was expected. Please change the shape of y to (n_samples, ), for example using ravel().\n",
      "  y = column_or_1d(y, warn=True)\n",
      "C:\\Users\\qzhang\\AppData\\Local\\Continuum\\anaconda3\\lib\\site-packages\\scipy\\stats\\stats.py:313: RuntimeWarning: divide by zero encountered in log\n",
      "  log_a = np.log(a)\n"
     ]
    },
    {
     "name": "stdout",
     "output_type": "stream",
     "text": [
      "{'Classifier': 'Neural Networks Training Set', 'PR_AUC': 0.016710565216940875, 'ROC_AUC': 0.8329521604411646, 'Expeted num of D60-D90': 1423.8318, 'Actual num of D60-D90': 1563, 'F score': 0.0, 'G mean': 0.0}\n"
     ]
    },
    {
     "data": {
      "image/png": "[encoded data removed]",
      "text/plain": [
       "<Figure size 432x288 with 2 Axes>"
      ]
     },
     "metadata": {},
     "output_type": "display_data"
    },
    {
     "data": {
      "image/png": "[encoded data removed]",
      "text/plain": [
       "<Figure size 432x288 with 1 Axes>"
      ]
     },
     "metadata": {},
     "output_type": "display_data"
    },
    {
     "data": {
      "image/png": "[encoded data removed]",
      "text/plain": [
       "<Figure size 432x288 with 1 Axes>"
      ]
     },
     "metadata": {},
     "output_type": "display_data"
    }
   ],
   "source": [
    "# predict \n",
    "prob_pos = model.predict(X_train, batch_size=ba_siz_pred, verbose=0) \n",
    "vfunc = np.vectorize(lambda x: 1 if x > 0.05 else 0)\n",
    "y_pred = vfunc(prob_pos)\n",
    "\n",
    "# calculate related metrics\n",
    "precision, recall, _ = precision_recall_curve(y_train, prob_pos)\n",
    "fpr, tpr, _ = roc_curve(y_train, prob_pos)\n",
    "roc_auc = auc(fpr, tpr)\n",
    "pr_auc = average_precision_score(y_train, prob_pos)\n",
    "exp_pos = np.sum(prob_pos)\n",
    "f_score = f1_score(y_train, y_pred)\n",
    "g_mean = geometric_mean_score(y_train, y_pred)\n",
    "\n",
    "op = {'Classifier': 'Neural Networks Training Set',\n",
    "      'PR_AUC': pr_auc,\n",
    "      'ROC_AUC': roc_auc,\n",
    "      'Expeted num of D60-D90': exp_pos,\n",
    "      'Actual num of D60-D90': np.sum(y_train),\n",
    "      'F score': f_score,\n",
    "      'G mean': g_mean}\n",
    "print(op)\n",
    "\n",
    "# PLOT - confusion matrix\n",
    "ax_cm = sns.heatmap(confusion_matrix(y_train, y_pred), annot=True, fmt=\"d\")\n",
    "\n",
    "# PLOT - ROC_AUC\n",
    "plt.figure()\n",
    "plt.plot(fpr, tpr, color='darkorange', lw=1, label='ROC curve (area = %0.6f)' % roc_auc)\n",
    "plt.plot([0, 1], [0, 1], color='navy', lw=1, linestyle='--')\n",
    "plt.xlim([0.0, 1.0])\n",
    "plt.ylim([0.0, 1.05])\n",
    "plt.xlabel('False Positive Rate')\n",
    "plt.ylabel('True Positive Rate')\n",
    "plt.title(f'Neural Networks - ROC(Training Set)')\n",
    "plt.legend(loc=\"lower right\")\n",
    "plt.show()\n",
    "\n",
    "# PLOT - PR_AUC\n",
    "plt.figure()\n",
    "plt.plot(recall, precision, color='darkorange', lw=1,\n",
    "         label='PR curve (area = %0.6f)' % pr_auc)\n",
    "plt.fill_between(recall, precision, step='post', alpha=0.2, color='b')\n",
    "plt.xlim([0.0, 1.0])\n",
    "plt.ylim([0.0, 1.05])\n",
    "plt.xlabel('Recall(True Positive Rate)')\n",
    "plt.ylabel('Precision')\n",
    "plt.title(f'Neural Networks - Precision Recall Curve(Training Set)')\n",
    "plt.legend(loc=\"upper right\")\n",
    "plt.show()"
   ]
  },
  {
   "cell_type": "code",
   "execution_count": 1,
   "metadata": {},
   "outputs": [
    {
     "data": {
      "text/plain": [
       "1.6041666666666667"
      ]
     },
     "execution_count": 1,
     "metadata": {},
     "output_type": "execute_result"
    }
   ],
   "source": [
    "138600 / 3600 / 24"
   ]
  },
  {
   "cell_type": "code",
   "execution_count": 3,
   "metadata": {},
   "outputs": [
    {
     "name": "stderr",
     "output_type": "stream",
     "text": [
      "C:\\Users\\qzhang\\AppData\\Local\\Continuum\\anaconda3\\lib\\site-packages\\h5py\\__init__.py:36: FutureWarning: Conversion of the second argument of issubdtype from `float` to `np.floating` is deprecated. In future, it will be treated as `np.float64 == np.dtype(float).type`.\n",
      "  from ._conv import register_converters as _register_converters\n"
     ]
    }
   ],
   "source": [
    "import tensorflow as tf\n",
    "sess = tf.Session(config=tf.ConfigProto(log_device_placement=True))"
   ]
  },
  {
   "cell_type": "code",
   "execution_count": null,
   "metadata": {},
   "outputs": [],
   "source": []
  }
 ],
 "metadata": {
  "kernelspec": {
   "display_name": "Python 3",
   "language": "python",
   "name": "python3"
  },
  "language_info": {
   "codemirror_mode": {
    "name": "ipython",
    "version": 3
   },
   "file_extension": ".py",
   "mimetype": "text/x-python",
   "name": "python",
   "nbconvert_exporter": "python",
   "pygments_lexer": "ipython3",
   "version": "3.6.5"
  }
 },
 "nbformat": 4,
 "nbformat_minor": 2
}
